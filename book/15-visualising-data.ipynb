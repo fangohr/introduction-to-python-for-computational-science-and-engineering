{
 "cells": [
  {
   "cell_type": "markdown",
   "metadata": {},
   "source": [
    "# Visualising Data\n",
    "\n",
    "The purpose of scientific computation is insight not numbers: To understand the meaning of the (many) numbers we compute, we often need postprocessing, statistical analysis and graphical visualisation of our data. The following sections describe\n",
    "\n",
    "- Matplotlib/Pylab — a tool to generate high quality graphs of the type *y* = *f*(*x*) (and a bit more)\n",
    "  - the `pylab` interface\n",
    "  - the `pyplot` interface\n",
    "\n",
    "We also touch on:\n",
    "\n",
    "- Visual Python — a tool to quickly generate animations of time dependent processes taking place in 3d space.\n",
    "- Tools to store and visualise vtk files\n",
    "\n",
    "We close with a short outlook on\n",
    "\n",
    "- Further tools and developments discussing other tools and emerging approaches for data visualisation and analysis.\n",
    "\n",
    "## Matplotlib – plotting y=f(x), (and a bit more)\n",
    "\n",
    "The Python library *Matplotlib* is a python 2D plotting library which produces publication quality figures in a variety of hardcopy formats and interactive environments. Matplotlib tries to make easy things easy and hard things possible. You can generate plots, histograms, power spectra, bar charts, errorcharts, scatterplots, etc, with just a few lines of code.\n",
    "\n",
    "For more detailed information, check these links\n",
    "\n",
    "-   A very nice introduction in the object oriented Matplotlib interface, and summary of all important ways of changing style, figure size, linewidth, etc. This is a useful reference:\n",
    "    <https://github.com/jrjohansson/scientific-python-lectures/blob/master/Lecture-4-Matplotlib.ipynb>\n",
    "\n",
    "-   [Matplotlib tutorial](https://matplotlib.org/stable/tutorials/index)\n",
    "\n",
    "-   [Matplotlib home page](https://matplotlib.org)\n",
    "\n",
    "-   Extended thumbnail gallery of examples https://matplotlib.org/stable/gallery/index.html\n",
    "\n",
    "### Matplotlib and Pylab\n",
    "\n",
    "The Matplotlib package provides *an object oriented plotting library* under the name space `matplotlib.pyplot`. \n",
    "\n",
    "The `pylab` interface is provided through the Matplotlib package. Internally it uses `matplotlib.pyplot` functionality but imitates the (state-driven) Matlab plotting interface.\n",
    "\n",
    "The `pylab` interface is slightly more convenient to use for simple plots, and `matplotlib.pyplot` gives far more detailed control over how plots are created. If you routinely need to produce figures, we suggest to learn about the object oriented `matplotlib.pyplot` interface (instead of the `pylab` interface).\n",
    "\n",
    "This chapter focusses on the Pylab interface, but also provides examples for the object-oriented `matplotlib.pyplot` interface.\n",
    "\n",
    "An excellent introduction and overview of the `matplotlib.pyplot` plotting interface is available in <https://github.com/jrjohansson/scientific-python-lectures/blob/master/Lecture-4-Matplotlib.ipynb>."
   ]
  },
  {
   "cell_type": "markdown",
   "metadata": {},
   "source": [
    "For the purpose of this book and the [Jupyterbook package](https://jupyterbook.org), we use some settings to create a svg file for the html version of the book, and a high-resolution png file for the pdf version:"
   ]
  },
  {
   "cell_type": "code",
   "execution_count": null,
   "metadata": {},
   "outputs": [],
   "source": [
    "%matplotlib inline\n",
    "# settings for jupyter book: svg for html version, high-resolution png for pdf\n",
    "import matplotlib_inline\n",
    "matplotlib_inline.backend_inline.set_matplotlib_formats('svg', 'png')\n",
    "import matplotlib as mpl\n",
    "mpl.rcParams['figure.dpi'] = 400"
   ]
  },
  {
   "cell_type": "markdown",
   "metadata": {},
   "source": [
    "### First example\n",
    "\n",
    "#### The pyplot interface\n",
    "\n",
    "The recommended way of using Matplotlib in a simple example is shown here:"
   ]
  },
  {
   "cell_type": "code",
   "execution_count": null,
   "metadata": {},
   "outputs": [],
   "source": [
    "# example 1 a\n",
    "import numpy as np                  # get access to fast arrays\n",
    "import matplotlib.pyplot as plt     # the plotting functions   \n",
    "\n",
    "x = np.arange(-3.14, 3.14, 0.01)    # create x-data \n",
    "y = np.sin(x)                       # compute y-data\n",
    "plt.plot(x, y)                      # create plot"
   ]
  },
  {
   "cell_type": "markdown",
   "metadata": {},
   "source": [
    "### How to import matplotlib, pylab, pyplot, numpy and all that\n",
    "\n",
    "The submodule `matplotlib.pyplot` provides an object oriented interface to the plotting library. Many of the examples in the matplotlib documentation follow the import convention to import `matplotlib.pyplot` as `plt` and `numpy` as `np`. It is of the user’s decision whether to import the `numpy` library under the name `np` (as often done in matplotlib examples) or `N` as occasionally done in this text (and in the early days when the predecessor of numpy was called “Numeric”) or any other name you like. Similarly, it is a matter of taste whether the plotting submodule (`matplotlib.pyplot`) is imported as `plt` as is done in the matplotlib documentation or `plot` (which could be argued is slightly clearer) etc.\n",
    "\n",
    "As always a balance has to be struck between personal preferences and consistency with common practice in choosing these name. Consistency with common use is more important if the code is likely to be used by others or published.\n",
    "\n",
    "#### The Pylab interface\n",
    "\n",
    "We introduce the `pylab` interface by translating the example 1a above to the following example 1b (which is identical in functionality to the example 1a and will create the same plot):"
   ]
  },
  {
   "cell_type": "code",
   "execution_count": null,
   "metadata": {},
   "outputs": [],
   "source": [
    "# example 1b\n",
    "import pylab\n",
    "import numpy as np\n",
    "\n",
    "x = np.arange (-3.14, 3.14, 0.01)\n",
    "y = np.sin(x)\n",
    "\n",
    "pylab.plot(x, y)"
   ]
  },
  {
   "cell_type": "markdown",
   "metadata": {},
   "source": [
    "Plotting nearly always needs arrays of numerical data and it is for this reason that the `numpy` module is used a lot: it provides fast and memory efficient array handling for Python (see [chapter 14](14-numpy.ipynb)). The `pylab` interface has taken this a step further and automatically imports all objects from `numpy` into the `pylab` name space:\n",
    "\n",
    "Because the `numpy.arange` and `numpy.sin` objects have already been imported into the `pylab` namespace, we could also write it as example 1c:"
   ]
  },
  {
   "cell_type": "code",
   "execution_count": null,
   "metadata": {},
   "outputs": [],
   "source": [
    "# example 1c\n",
    "import pylab as p\n",
    "\n",
    "x = p.arange(-3.14, 3.14, 0.01)\n",
    "y = p.sin(x)\n",
    "\n",
    "p.plot(x, y)"
   ]
  },
  {
   "cell_type": "markdown",
   "metadata": {},
   "source": [
    "If we really want to cut down on characters to type, we could also important all the objects (`*`) from the `pylab` convenience module into our current namespace, and rewrite the code as example 1d:"
   ]
  },
  {
   "cell_type": "code",
   "execution_count": null,
   "metadata": {},
   "outputs": [],
   "source": [
    "# example 1 d\n",
    "from pylab import *  # not generally recommended\n",
    "                     # okay for interactive testing\n",
    "\n",
    "x = arange(-3.14, 3.14, 0.01)\n",
    "y = sin(x)\n",
    "plot(x, y)\n",
    "show()"
   ]
  },
  {
   "cell_type": "markdown",
   "metadata": {},
   "source": [
    "This can be extremely convenient, but comes with a big health warning:\n",
    "\n",
    "-   While using `from pylab import *` is acceptable at the command prompt to interactively create plots and analyse data, this should never be used in any plotting scripts.\n",
    "\n",
    "-   The pylab toplevel provides over 800 different objects which are all imported into the global name space when running `from pylab import *`. This is not good practice, and could conflict with other objects that exist already or are created later.\n",
    "\n",
    "-   As a rule of thumb: do never use `from somewhere import *` in programs we save. This may be okay at the command prompt for interactive data exploration.\n",
    "\n"
   ]
  },
  {
   "cell_type": "markdown",
   "metadata": {},
   "source": [
    "### IPython’s inline mode\n",
    "\n",
    "Within the Jupyter Notebook or Qtconsole (see the [Python shells notebook](11-python-shells.ipynb)) we can use the `%matplotlib inline` magic command to make further plots appear within our console or notebook. To force pop up windows instead, use `%matplotlib qt`.\n",
    "\n",
    "If you enjoy the `pylab` interface, then you maybe interested in the `%pylab` magic, which will not only switch to inline plotting but also automatically execute `from pylab import *`."
   ]
  },
  {
   "cell_type": "markdown",
   "metadata": {},
   "source": [
    "### Saving the figure to a file\n",
    "\n",
    "Once you have created the figure (using the `plot` command) and added any labels, legends etc, you have two options to save the plot.\n",
    "\n",
    "1.  You can display the figure (using `show`) and *interactively* save it by clicking on the disk icon. (This does not work with inline plots as the icons are not available.)\n",
    "\n",
    "2.  You can (without displaying the figure) save it directly from your Python code. The command to use is `savefig`. The format is determined by the extension of the file name you provide. Here is an example (`pylabsavefig.py`) which saves a figure into different files."
   ]
  },
  {
   "cell_type": "code",
   "execution_count": null,
   "metadata": {},
   "outputs": [],
   "source": [
    "# saving figure files with the pylab interface\n",
    "import pylab\n",
    "import numpy as np\n",
    "\n",
    "x = np.arange(-3.14, 3.14, 0.01)\n",
    "y = np.sin(x)\n",
    "\n",
    "pylab.plot(x, y, label='sin(x)')\n",
    "pylab.savefig('myplot.png')  # saves png file\n",
    "pylab.savefig('myplot.svg')  # saves svg file\n",
    "pylab.savefig('myplot.eps')  # saves svg file\n",
    "pylab.savefig('myplot.pdf')  # saves pdf file\n",
    "pylab.close()"
   ]
  },
  {
   "cell_type": "markdown",
   "metadata": {},
   "source": [
    "A note on file formats: \n",
    "\n",
    "The `pdf`, `eps` and `svg` file formats are vector file formats which means that one can zoom into the image without loosing quality (lines will still be sharp). File formats such as `png` (and `jpg`, `gif`, `tif`, `bmp`) save the image in form of a bitmap (i.e. a matrix of colour values) and will appear blurry or pixelated when zooming in (or when printed in high resolution).\n",
    "\n",
    "Accordingly, choose a vector file format where you can, and use the bitmap (`png` for example) if there are no other options. Choose the `eps` or `pdf` file format if you plan to include the figure in a Latex document – depending on whether you want to compile it using `latex` (needs `eps`) or pdflatex (can use `pdf` \\[better\\] or `png`). If the version of MS Word (or other text processing software you use) can handle `pdf` files, it is better to use `pdf` than `png` for that.\n",
    "\n"
   ]
  },
  {
   "cell_type": "code",
   "execution_count": null,
   "metadata": {},
   "outputs": [],
   "source": [
    "# saving figure files with the pyplot interface\n",
    "from matplotlib import pyplot as plt\n",
    "import numpy as np\n",
    "\n",
    "x = np.arange(-3.14, 3.14, 0.01)\n",
    "y = np.sin(x)\n",
    "\n",
    "fig, ax = plt.subplots()\n",
    "ax.plot(x, y, label='sin(x)')\n",
    "fig.savefig('myplot.png')  # saves png file\n",
    "fig.savefig('myplot.svg')  # saves svg file\n",
    "fig.savefig('myplot.eps')  # saves svg file\n",
    "fig.savefig('myplot.pdf')  # saves pdf file\n",
    "plt.close(fig)"
   ]
  },
  {
   "cell_type": "markdown",
   "metadata": {},
   "source": [
    "## The pylab interface"
   ]
  },
  {
   "cell_type": "markdown",
   "metadata": {},
   "source": [
    "### Fine tuning your plot\n",
    "\n",
    "Matplotlib allows us to fine tune our plots in great detail. Here is an example:"
   ]
  },
  {
   "cell_type": "code",
   "execution_count": null,
   "metadata": {},
   "outputs": [],
   "source": [
    "import pylab\n",
    "import numpy as N\n",
    "\n",
    "x = N.arange(-3.14, 3.14, 0.01)\n",
    "y1 = N.sin(x)\n",
    "y2 = N.cos(x)\n",
    "pylab.figure(figsize =(5 , 5))\n",
    "pylab.plot(x, y1, label='sin(x)')\n",
    "pylab.plot(x, y2, label='cos(x)')\n",
    "pylab.legend()\n",
    "pylab.axis([-2, 2, -1, 1])\n",
    "pylab.grid()\n",
    "pylab.xlabel('x')\n",
    "pylab.title('This is the title of the graph')"
   ]
  },
  {
   "cell_type": "markdown",
   "metadata": {},
   "source": [
    "showing some other useful commands:\n",
    "\n",
    "-   `figure(figsize=(5, 5))` sets the figure size to 5inch by 5inch\n",
    "\n",
    "-   `plot(x, y1, label=’sin(x)’)` The “label” keyword defines the name of this line. The line label will be shown in the legend if the `legend()` command is used later.\n",
    "\n",
    "-   Note that calling the `plot` command repeatedly, allows you to overlay a number of curves.\n",
    "\n",
    "-   `axis([-2, 2, -1, 1])` This fixes the displayed area to go from xmin=-2 to xmax=2 in x-direction, and from ymin=-1 to ymax=1 in y-direction\n",
    "\n",
    "-   `legend()` This command will display a legend with the labels as defined in the plot command. Try `help(pylab.legend)` to learn more about the placement of the legend.\n",
    "\n",
    "-   `grid()` This command will display a grid on the backdrop.\n",
    "\n",
    "-   `xlabel(’...’)` and `ylabel(’...’)` allow labelling the axes.\n",
    "\n",
    "Note further than you can chose different line styles, line thicknesses, symbols and colours for the data to be plotted. (The syntax is very similar to MATLAB.) For example:\n",
    "\n",
    "-   `plot(x, y, ’og’)` will plot circles (`o`) in green (`g`)\n",
    "\n",
    "-   `plot(x, y, ’-r’)` will plot a line (`-`) in red (`r`)\n",
    "\n",
    "-   `plot(x, y, ’-b’, linewidth=2)` will plot a blue line (`b`) with two two pixel thickness `linewidth=2` which is twice as wide as the default.\n",
    "\n",
    "-   `plot(x, y, ’-’, alpha=0.5)` will plot a semi-transparent line (`b`).\n",
    "\n",
    "\n",
    "The full list of options can be found when typing `help(pylab.plot)` at the Python prompt. Because this documentation is so useful, we repeat parts of it here:"
   ]
  },
  {
   "cell_type": "markdown",
   "metadata": {},
   "source": [
    "    plot(*args, **kwargs)\n",
    "        Plot lines and/or markers to the\n",
    "        :class:`~matplotlib.axes.Axes`.  *args* is a variable length\n",
    "        argument, allowing for multiple *x*, *y* pairs with an\n",
    "        optional format string.  For example, each of the following is\n",
    "        legal::\n",
    "\n",
    "            plot(x, y)         # plot x and y using default line style and color\n",
    "            plot(x, y, 'bo')   # plot x and y using blue circle markers\n",
    "            plot(y)            # plot y using x as index array 0..N-1\n",
    "            plot(y, 'r+')      # ditto, but with red plusses\n",
    "\n",
    "        If *x* and/or *y* is 2-dimensional, then the corresponding columns\n",
    "        will be plotted.\n",
    "\n",
    "        An arbitrary number of *x*, *y*, *fmt* groups can be\n",
    "        specified, as in::\n",
    "\n",
    "            a.plot(x1, y1, 'g^', x2, y2, 'g-')\n",
    "\n",
    "        Return value is a list of lines that were added.\n",
    "\n",
    "        The following format string characters are accepted to control\n",
    "        the line style or marker:\n",
    "\n",
    "        ================    ===============================\n",
    "        character           description\n",
    "        ================    ===============================\n",
    "        '-'                 solid line style\n",
    "        '--'                dashed line style\n",
    "        '-.'                dash-dot line style\n",
    "        ':'                 dotted line style\n",
    "        '.'                 point marker\n",
    "        ','                 pixel marker\n",
    "        'o'                 circle marker\n",
    "        'v'                 triangle_down marker\n",
    "        '^'                 triangle_up marker\n",
    "        '<'                 triangle_left marker\n",
    "        '>'                 triangle_right marker\n",
    "        '1'                 tri_down marker\n",
    "        '2'                 tri_up marker\n",
    "        '3'                 tri_left marker\n",
    "        '4'                 tri_right marker\n",
    "        's'                 square marker\n",
    "        'p'                 pentagon marker\n",
    "        '*'                 star marker\n",
    "        'h'                 hexagon1 marker\n",
    "        'H'                 hexagon2 marker\n",
    "        '+'                 plus marker\n",
    "        'x'                 x marker\n",
    "        'D'                 diamond marker\n",
    "        'd'                 thin_diamond marker\n",
    "        '|'                 vline marker\n",
    "        '_'                 hline marker\n",
    "        ================    ===============================\n",
    "\n",
    "    The following color abbreviations are supported:\n",
    "\n",
    "    ==========  ========\n",
    "    character   color\n",
    "    ==========  ========\n",
    "    'b'         blue\n",
    "    'g'         green\n",
    "    'r'         red\n",
    "    'c'         cyan\n",
    "    'm'         magenta\n",
    "    'y'         yellow\n",
    "    'k'         black\n",
    "    'w'         white\n",
    "    ==========  ========\n",
    "\n",
    "    In addition, you can specify colors in many weird and\n",
    "    wonderful ways, including full names (``'green'``), hex\n",
    "    strings (``'#008000'``), RGB or RGBA tuples (``(0,1,0,1)``) or\n",
    "    grayscale intensities as a string (``'0.8'``).  Of these, the\n",
    "    string specifications can be used in place of a ``fmt`` group,\n",
    "    but the tuple forms can be used only as ``kwargs``.\n",
    "\n",
    "    Line styles and colors are combined in a single format string, as in\n",
    "    ``'bo'`` for blue circles.\n",
    "\n",
    "    The *kwargs* can be used to set line properties (any property that has\n",
    "    a ``set_*`` method).  You can use this to set a line label (for auto\n",
    "    legends), linewidth, anitialising, marker face color, etc.  Here is an\n",
    "    example::\n",
    "\n",
    "        plot([1,2,3], [1,2,3], 'go-', label='line 1', linewidth=2)\n",
    "        plot([1,2,3], [1,4,9], 'rs',  label='line 2')\n",
    "        axis([0, 4, 0, 10])\n",
    "        legend()\n",
    "\n",
    "    If you make multiple lines with one plot command, the kwargs\n",
    "    apply to all those lines, e.g.::\n",
    "\n",
    "        plot(x1, y1, x2, y2, antialised=False)\n",
    "\n",
    "    Neither line will be antialiased.\n",
    "\n",
    "    You do not need to use format strings, which are just\n",
    "    abbreviations.  All of the line properties can be controlled\n",
    "    by keyword arguments.  For example, you can set the color,\n",
    "    marker, linestyle, and markercolor with::\n",
    "\n",
    "        plot(x, y, color='green', linestyle='dashed', marker='o',\n",
    "             markerfacecolor='blue', markersize=12).  See\n",
    "             :class:`~matplotlib.lines.Line2D` for details."
   ]
  },
  {
   "cell_type": "markdown",
   "metadata": {},
   "source": [
    "The use of different line styles and thicknesses is particularly useful when colour cannot be used to distinguish lines (for example when graph will be used in document that is to be printed in black and white only).\n",
    "\n",
    "### Plotting more than one curve\n",
    "\n",
    "There are three different methods to display more than one curve.\n",
    "\n",
    "#### Two (or more) curves in one graph\n",
    "\n",
    "By calling the `plot` command repeatedly, more than one curve can be drawn in the same graph. Example:"
   ]
  },
  {
   "cell_type": "code",
   "execution_count": null,
   "metadata": {},
   "outputs": [],
   "source": [
    "import numpy as np\n",
    "t = np.arange(0, 2*np.pi, 0.01)\n",
    "\n",
    "import pylab\n",
    "pylab.plot(t, np.sin(t), label='sin(t)')\n",
    "pylab.plot(t, np.cos(t), label='cos(t)')\n",
    "pylab.legend()"
   ]
  },
  {
   "cell_type": "markdown",
   "metadata": {},
   "source": [
    "#### Two (or more graphs) in one figure window\n",
    "\n",
    "The `pylab.subplot` command allows to arrange several graphs within one figure window. The general syntax is\n",
    "\n",
    "    subplot(numRows, numCols, plotNum)"
   ]
  },
  {
   "cell_type": "markdown",
   "metadata": {},
   "source": [
    "For example, to arrange 4 graphs in a 2-by-2 matrix, and to select the first graph for the next plot command, one can use:\n",
    "\n",
    "```python\n",
    "subplot(2, 2, 1)\n",
    "```"
   ]
  },
  {
   "cell_type": "markdown",
   "metadata": {},
   "source": [
    "Here is a complete example plotting the sine and cosine curves in two graphs that are aligned underneath each other within the same window:"
   ]
  },
  {
   "cell_type": "code",
   "execution_count": null,
   "metadata": {},
   "outputs": [],
   "source": [
    "import numpy as np\n",
    "t = np.arange (0, 2*np.pi, 0.01)\n",
    "\n",
    "import pylab\n",
    "\n",
    "pylab.subplot(2, 1, 1)\n",
    "pylab.plot(t, np.sin(t))\n",
    "pylab.xlabel('t')\n",
    "pylab.ylabel('sin(t)')\n",
    "\n",
    "pylab.subplot(2, 1, 2)\n",
    "pylab.plot(t, np.cos(t))\n",
    "pylab.xlabel('t')\n",
    "pylab.ylabel('cos(t)');"
   ]
  },
  {
   "cell_type": "markdown",
   "metadata": {},
   "source": [
    "#### Two (or more) figure windows"
   ]
  },
  {
   "cell_type": "code",
   "execution_count": null,
   "metadata": {},
   "outputs": [],
   "source": [
    "import pylab\n",
    "pylab.figure(1)\n",
    "pylab.plot(range(10), 'o')\n",
    "\n",
    "pylab.figure(2)\n",
    "pylab.plot(range(100), 'x')"
   ]
  },
  {
   "cell_type": "markdown",
   "metadata": {},
   "source": [
    "Note that you can use `pylab.close()` to close one, some or all figure windows (use `help(pylab.close)` to learn more). The closing of figures is not relevant for inline plots, but for plots that appear in pop-up windows, those windows will be closed when the figure is closed."
   ]
  },
  {
   "cell_type": "markdown",
   "metadata": {},
   "source": [
    "### Interactive mode\n",
    "\n",
    "Pylab can be run in two modes:\n",
    "\n",
    "-   non-interactive (this is the default)\n",
    "\n",
    "-   interactive.\n",
    "\n",
    "In non-interactive mode, no plots will be displayed until the `show()` command has been issued. In this mode, the `show()` command should be the last statement of your program.\n",
    "\n",
    "In interactive mode, plots will be immediately displayed after the plot command has been issued.\n",
    "\n",
    "One can switch the interactive mode on using `pylab.ion()` and off using `pylab.ioff()`. IPython's `%matplotlib` magic also enables interactive mode.\n",
    "\n",
    "If you use Jupyter notebooks with inline plots, then this feature is not so relevant."
   ]
  },
  {
   "cell_type": "markdown",
   "metadata": {},
   "source": [
    "## The matplotlib.pyplot interface\n",
    "\n",
    "This is the recommended way to use matplotlib for producing publication quality plots, or anything that needs some fine tuning: the object oriented approach of the `pyplot` interface makes it generally easier to tailor the plots that the state-driven `pylab` interface.\n",
    "\n",
    "The central two commands to create `pyplot` figures are:\n",
    "\n",
    "1. Create a figure object, and one (or more) axes objects within the figure.\n",
    "\n",
    "2. Create some drawing inside the axes object.\n",
    "\n",
    "Here is an example:"
   ]
  },
  {
   "cell_type": "code",
   "execution_count": null,
   "metadata": {},
   "outputs": [],
   "source": [
    "import numpy as np\n",
    "import matplotlib.pyplot as plt\n",
    "\n",
    "xs = np.linspace(0, 10, 100)\n",
    "ys = np.sin(xs)\n",
    "\n",
    "fig, ax = plt.subplots()\n",
    "ax.plot(xs, ys)\n"
   ]
  },
  {
   "cell_type": "markdown",
   "metadata": {},
   "source": [
    "Below is a more complete example. We can see that the object oriented nature, for example the `ax` object, makes it possible to target our formatting instructions to that `ax` object. This becomes particularly useful if we have more than one axes object in the same figure."
   ]
  },
  {
   "cell_type": "code",
   "execution_count": null,
   "metadata": {},
   "outputs": [],
   "source": [
    "import numpy as np\n",
    "import matplotlib.pyplot as plt\n",
    "\n",
    "xs = np.linspace(0, 10, 100)\n",
    "ys = np.sin(xs)\n",
    "\n",
    "fig, ax = plt.subplots(figsize=(6, 4))\n",
    "ax.plot(xs, ys, 'x-', linewidth=2, color='orange')\n",
    "\n",
    "ax.grid('on')\n",
    "ax.set_xlabel('x')\n",
    "ax.set_ylabel('y=f(x)')\n",
    "fig.savefig(\"pyplot-demo2.pdf\")\n"
   ]
  },
  {
   "cell_type": "markdown",
   "metadata": {},
   "source": [
    "### Histograms\n",
    "\n",
    "<embed src=\"code/pylab/pylabhistogram.pdf\" style=\"width:100.0%\" />\n",
    "\n",
    "The program below demonstrates how to create histograms from statistical data with matplotlib."
   ]
  },
  {
   "cell_type": "code",
   "execution_count": null,
   "metadata": {},
   "outputs": [],
   "source": [
    "import matplotlib.pyplot as plt\n",
    "import numpy as np\n",
    "import scipy.stats\n",
    "\n",
    "# create the data\n",
    "mu, sigma = 100, 15\n",
    "x = mu + sigma*np.random.randn(10000)\n",
    "\n",
    "# create the figure and axes objects\n",
    "fig, ax = plt.subplots()\n",
    "\n",
    "# the histogram of the data\n",
    "n, bins, patches = ax.hist(x, 50, density=1, facecolor='green', alpha=0.75)\n",
    "\n",
    "# add a 'best fit' line\n",
    "y = scipy.stats.norm.pdf(bins, mu, sigma)\n",
    "l = ax.plot(bins, y, 'r--', linewidth=1)\n",
    "\n",
    "# annotate the plot\n",
    "ax.set_xlabel('Smarts')\n",
    "ax.set_ylabel('Probability')\n",
    "ax.set_title(r'$\\mathrm{Histogram\\ of\\ IQ:}\\ \\mu=100,\\ \\sigma=15$')\n",
    "ax.axis([40, 160, 0, 0.03])\n",
    "ax.grid(True)"
   ]
  },
  {
   "cell_type": "markdown",
   "metadata": {},
   "source": [
    "Do not try to understand every single command in this file: some are rather specialised and have not been covered in this text. The intention is to provide a few examples to show what can – in principle – be done with Matplotlib. If you need a plot like this, the expectation is that you will need to experiment and possibly learn a bit more about Matplotlib."
   ]
  },
  {
   "cell_type": "markdown",
   "metadata": {},
   "source": [
    "### Visualising matrix data\n",
    "\n",
    "The program below demonstrates how to create a bitmap-plot of the entries of a matrix."
   ]
  },
  {
   "cell_type": "code",
   "execution_count": null,
   "metadata": {},
   "outputs": [],
   "source": [
    "import numpy as np\n",
    "import matplotlib.pyplot as plt\n",
    "\n",
    "# Helper function (from https://github.com/matplotlib/matplotlib/blob/master/lib/matplotlib/mlab.py\n",
    "# as of August 2018)\n",
    "def bivariate_normal(X, Y, sigmax=1.0, sigmay=1.0,\n",
    "                     mux=0.0, muy=0.0, sigmaxy=0.0):\n",
    "    \"\"\"\n",
    "    Bivariate Gaussian distribution for equal shape *X*, *Y*.\n",
    "    See `bivariate normal\n",
    "    <https://mathworld.wolfram.com/BivariateNormalDistribution.html>`_\n",
    "    at mathworld.\n",
    "    \"\"\"\n",
    "    Xmu = X - mux\n",
    "    Ymu = Y - muy\n",
    "\n",
    "    rho = sigmaxy / (sigmax*sigmay)\n",
    "    z = Xmu**2 / sigmax**2 + Ymu**2 / sigmay**2 - 2*rho*Xmu*Ymu/(sigmax*sigmay)\n",
    "    denom = 2*np.pi*sigmax*sigmay*np.sqrt(1-rho**2)\n",
    "    return np.exp(-z/(2*(1-rho**2))) / denom\n",
    "\n",
    "# create matrix Z that contains some interesting data\n",
    "delta = 0.1\n",
    "x = y = np.arange(-3.0, 3.0, delta)\n",
    "X, Y = np.meshgrid(x, y)\n",
    "Z = bivariate_normal(X, Y, 3.0, 1.0, 0.0, 0.0)\n",
    "\n",
    "# display the 'raw' matrix data of Z in one set of axis\n",
    "fig, axes = plt.subplots(ncols=2)\n",
    "ax0, ax1 = axes\n",
    "ax0.imshow(Z, interpolation='nearest')\n",
    "ax0.set_title(\"no interpolation\")\n",
    "\n",
    "# display the data interpolated in other set of axis\n",
    "im = ax1.imshow(Z, interpolation='bilinear')\n",
    "ax1.set_title(\"with bi-linear interpolation\")\n",
    "\n",
    "fig.suptitle(\"imshow example\")\n",
    "fig.savefig(\"pylabimshow.pdf\")"
   ]
  },
  {
   "cell_type": "markdown",
   "metadata": {},
   "source": [
    "To use different colourmaps, we make use of the `matplotlib.cm` module (where cm stands for Colour Map). The code below demonstrates how we can select colourmaps from the set of already provided maps, and how we can modify them (here by reducing the number of colours in the map). The last example mimics the behaviour of the more sophisticated `contour` command that also comes with `matplotlib`."
   ]
  },
  {
   "cell_type": "code",
   "execution_count": null,
   "metadata": {},
   "outputs": [],
   "source": [
    "import numpy as np\n",
    "import matplotlib.pyplot as plt\n",
    "import matplotlib.cm as cm        # Colour map submodule\n",
    "\n",
    "# create matrix Z that contains some data interesting data\n",
    "delta = 0.025\n",
    "x = y = np.arange(-3.0, 3.0, delta)\n",
    "X, Y = np.meshgrid(x, y)\n",
    "Z = bivariate_normal(X, Y, 3.0, 1.0, 0.0, 0.0)\n",
    "\n",
    "# Create a matrix of axes with 2 rows and 3 columns\n",
    "fig, axes = plt.subplots(nrows=2, ncols=3)\n",
    "\n",
    "ax = axes[0, 0]\n",
    "ax.imshow(Z, cmap=cm.viridis)  # viridis colourmap \n",
    "ax.set_title(\"colourmap jet\")\n",
    "\n",
    "ax = axes[0, 1]\n",
    "ax.imshow(Z, cmap=cm.viridis_r)  # reverse viridis colourmap\n",
    "ax.set_title(\"colourmap jet_r\")\n",
    "\n",
    "ax = axes[0, 2]\n",
    "ax.imshow(Z, cmap=cm.gray)\n",
    "ax.set_title(\"colourmap gray\")\n",
    "\n",
    "ax = axes[1, 0]\n",
    "ax.imshow(Z, cmap=cm.hsv)\n",
    "ax.set_title(\"colourmap hsv\")  # this one is periodic\n",
    "\n",
    "ax = axes[1, 1]\n",
    "ax.imshow(Z, cmap=cm.plasma)\n",
    "ax.set_title(\"colourmap plasma\")\n",
    "\n",
    "ax = axes[1, 2]\n",
    "# make isolines by reducing number of colours to 10\n",
    "mycmap = cm.get_cmap('viridis', 10)    # 10 discrete colors\n",
    "ax.imshow(Z, cmap=mycmap)\n",
    "ax.set_title(\"colourmap viridis\\n(10 colours only)\")\n",
    "fig.tight_layout()   # avoid overlap of titles and axis labels\n",
    "fig.savefig(\"pylabimshowcm.pdf\")"
   ]
  },
  {
   "cell_type": "markdown",
   "metadata": {},
   "source": [
    "### What colour map to choose?"
   ]
  },
  {
   "cell_type": "markdown",
   "metadata": {},
   "source": [
    "It is a non-trivial question which colour map one should use. There is a useful discussion as part of the [matplotlib documentation](https://matplotlib.org/stable/tutorials/colors/colormaps.html). \n",
    "\n",
    "By default a 'perceptually uniform' colourmap is a good choice: the perception of the colours follows the values we try to represent. [Examples](https://matplotlib.org/stable/tutorials/colors/colormaps.html#sequential) are \"viridis\", \"plasma\", \"inferno\", \"magma\", \"cividis\".\n",
    "\n",
    "This is a complex topic in its own right."
   ]
  },
  {
   "cell_type": "markdown",
   "metadata": {},
   "source": [
    "### Plots of *z* = *f*(*x*, *y*) and other features of Matplotlib\n",
    "\n",
    "Matplotlib has a large number of features and can create all the standard (1d and 2d) plots such as histograms, pie charts, scatter plots, 2d-intensity plots (i.e. *z* = *f*(*x*, *y*)) and contour lines) and much more. The figure below shows such an example ([contour_demo.py]\n",
    "(https://matplotlib.org/stable/gallery/images_contours_and_fields/contour_demo.html)).\n",
    "\n",
    "\n",
    "<a href=\"https://matplotlib.org/stable/gallery/images_contours_and_fields/contour_demo.html\"><img src=\"static/images/pylab/contour_demo.png\" alt=\"The output of contour_demo.py.\" style=\"width:50.0%\" /> </a>\n",
    "\n",
    "Some support for 3d plots is also available: https://matplotlib.org/stable/gallery/index.html#d-plotting"
   ]
  },
  {
   "cell_type": "markdown",
   "metadata": {},
   "source": [
    "### How to learn how to use Matplotlib?\n",
    "\n",
    "A common strategy is to scan the examples at [https://matplotlib.org/stable/gallery](https://matplotlib.org/stable/gallery/index.html) to find a plot similar to the desired one, and then to modify the given example code. In the process, it may be worth learning more about the commands used in the example through reading the documentation.\n",
    "\n"
   ]
  },
  {
   "cell_type": "markdown",
   "metadata": {},
   "source": [
    "## Visual Python\n",
    "\n",
    "Visual Python is a Python module that makes it fairly easy to create and animate three-dimensional scenes.\n",
    "\n",
    "Further information:\n",
    "\n",
    "- The Visual Python home page\n",
    "- The Visual Python documentation (explaining all objects with all their parameters)\n",
    "\n",
    "Short videos introducing Visual Python:\n",
    "\n",
    "- Shawn Weatherford, Jeff Polak (students of Ruth Chabay): <https://www.youtube.com/vpythonvideos>\n",
    "\n",
    "### Basics, rotating and zooming\n",
    "\n",
    "Here is an example showing how to create a red and a blue sphere at two different positions together with a flat box (`vpythondemo1.py`):"
   ]
  },
  {
   "cell_type": "markdown",
   "metadata": {},
   "source": [
    "```python\n",
    "import visual\n",
    "sphere1 = visual.sphere(pos=[0, 0, 0], color=visual.color.blue)\n",
    "sphere2 = visual.sphere(pos=[5, 0, 0], color=visual.color.red, radius=2)\n",
    "base = visual.box(pos=(0, -2, 0), length=8, height=0.1, width=10)\n",
    "```"
   ]
  },
  {
   "cell_type": "markdown",
   "metadata": {},
   "source": [
    "<img src=\"static/images/visual/vpythondemo1.png\" alt=\"Snapshot of vpythondemo1.py.\" style=\"width:50.0%\" />\n",
    "\n",
    "Once you have created such a visual python scene, you can\n",
    "\n",
    "-   rotate the scene by pressing the right mouse button and moving the mouse\n",
    "\n",
    "-   zoom in and out by pressing the middle mouse button (this could be the wheel) and moving the mouse up and down. (On some (Windows?) installations, one has to press the left and the right mouse button simultaneously and then move the move the mouse up and down to zoom.)\n",
    "\n",
    "### Setting the frame rate for animations\n",
    "\n",
    "A particular strength of Visual Python is its ability to display time-dependent data:\n",
    "\n",
    "-   A very useful command is the `rate()` command which ensures that a loop is only executed at a certain frame rate. Here is an example printing exactly two “Hello World”s per second (`vpythondemo2.py`):"
   ]
  },
  {
   "cell_type": "markdown",
   "metadata": {
    "collapsed": true
   },
   "source": [
    "```python\n",
    "import visual\n",
    "\n",
    "for i in range(10):\n",
    "    visual.rate(2)\n",
    "    print(\"Hello World (0.5 seconds per line)\")\n",
    "```"
   ]
  },
  {
   "cell_type": "markdown",
   "metadata": {},
   "source": [
    "-   All Visual Python objects (such as the spheres and the box in the example above) have a `.pos` attribute which contains the position (of the centre of the object \\[sphere,box\\] or one end of the object \\[cylinder,helix\\]). Here is an example showing a sphere moving up and down (`vpythondemo3.py`):"
   ]
  },
  {
   "cell_type": "markdown",
   "metadata": {
    "collapsed": true
   },
   "source": [
    "```python\n",
    "import visual, math\n",
    "\n",
    "ball = visual.sphere()\n",
    "box = visual.box( pos=[0,-1,0], width=4, length=4, height=0.5 )\n",
    "\n",
    "#tell visual not to automatically scale the image\n",
    "visual.scene.autoscale = False\n",
    "\n",
    "for i in range(1000):\n",
    "    t = i*0.1\n",
    "    y = math.sin(t)\n",
    "\n",
    "    #update the ball's position\n",
    "    ball.pos = [0, y, 0]\n",
    "\n",
    "    #ensure we have only 24 frames per second\n",
    "    visual.rate(24)\n",
    "```"
   ]
  },
  {
   "cell_type": "markdown",
   "metadata": {},
   "source": [
    "<img src=\"static/images/visual/vpythondemo3.png\" alt=\"Snapshot of vpythondemo3.py.\" style=\"width:50.0%\" />"
   ]
  },
  {
   "cell_type": "markdown",
   "metadata": {},
   "source": [
    "### Tracking trajectories\n",
    "\n",
    "You can track the trajectory of an object using a “curve”. The basic idea is to append positions to that curve object as demonstrated in this example (`vpythondemo4.py`):"
   ]
  },
  {
   "cell_type": "markdown",
   "metadata": {
    "collapsed": true
   },
   "source": [
    "```python\n",
    "import visual, math\n",
    "\n",
    "ball = visual.sphere()\n",
    "box = visual.box( pos=[0,-1,0], width=4, length=4, height=0.5 )\n",
    "trace=visual.curve( radius=0.2, color=visual.color.green)\n",
    "\n",
    "for i in range(1000):\n",
    "    t = i*0.1\n",
    "    y = math.sin(t)\n",
    "\n",
    "    #update the ball's position\n",
    "    ball.pos = [t, y, 0]\n",
    "\n",
    "    trace.append( ball.pos )\n",
    "\n",
    "    #ensure we have only 24 frames per second\n",
    "    visual.rate(24)\n",
    "```"
   ]
  },
  {
   "cell_type": "markdown",
   "metadata": {},
   "source": [
    "<img src=\"static/images/visual/vpythondemo4.png\" alt=\"Snapshot of vpythondemo4.py.\" style=\"width:50.0%\" />\n",
    "\n",
    "As with most visual Python objects, you can specify the colour of the curve (also per appended element!) and the radius."
   ]
  },
  {
   "cell_type": "markdown",
   "metadata": {},
   "source": [
    "### Connecting objects (Cylinders, springs, …)\n",
    "\n",
    "Cylinders and helices can be used to “connect” two objects. In addition to the `pos` attribute (which stores the position of one end of the object), there is also an `axis` attribute which stores the vector pointing from `pos` to the other end of the object. Here is an example showing this for a cylinder: (`vpythondemo5py`):"
   ]
  },
  {
   "cell_type": "markdown",
   "metadata": {
    "collapsed": true
   },
   "source": [
    "```python\n",
    "import visual, math\n",
    "\n",
    "ball1 = visual.sphere( pos = (0,0,0), radius=2 )\n",
    "ball2 = visual.sphere( pos = (5,0,0), radius=2 )\n",
    "connection = visual.cylinder(pos = ball1.pos, \\\n",
    "                             axis = ball2.pos - ball1.pos)\n",
    "\n",
    "for t in range(100):\n",
    "    #move ball2 \n",
    "    ball2.pos = (-t,math.sin(t),math.cos(t))\n",
    "\n",
    "    #keep cylinder connection between ball1 and ball2\n",
    "    connection.axis = ball2.pos - ball1.pos\n",
    "\n",
    "    visual.rate(24)\n",
    "```"
   ]
  },
  {
   "cell_type": "markdown",
   "metadata": {},
   "source": [
    "### 3d vision\n",
    "\n",
    "If you have access to “anaglyphic” (*i.e.* colored) glasses (best red-cyan but red-green or red-blue works as well), then you can switch visual python into this stereo mode by adding these two lines to the beginning of your program:"
   ]
  },
  {
   "cell_type": "markdown",
   "metadata": {
    "collapsed": true
   },
   "source": [
    "```python\n",
    "visual.scene.stereo='redcyan'\n",
    "visual.scene.stereodepth=1\n",
    "```"
   ]
  },
  {
   "cell_type": "markdown",
   "metadata": {},
   "source": [
    "Note the effect of the `stereodepth` parameter:\n",
    "\n",
    "-   `stereodepth=0`: 3d scene “inside” the screen (default)\n",
    "\n",
    "-   `stereodepth=1`: 3d scene at screen surface (this often looks best)\n",
    "\n",
    "-   `stereodepth=2`: 3d scene sticking out of the screen\n",
    "\n",
    "<img src=\"static/images/visual/vpythondemo3_3d.png\" alt=\"Snapshot of vpythondemo3.py in 3d mode (’redcyan’). With red/cyan glasses, this appears as a 3d image (with spatial depth).\" style=\"width:50.0%\" />"
   ]
  },
  {
   "cell_type": "markdown",
   "metadata": {},
   "source": [
    "## Visualising higher dimensional data (VTK)\n",
    "\n",
    "Often, we need to understand data defined at 3d positions in space. The data itself is often a scalar field (such as temperature) or a 3d vector (such as velocity or magnetic field), or occasionally a tensor. For example for a 3d-vector field *f* defined in 3d-space ($\\vec{f}(\\vec{x})$ where $\\vec{x} \\in I\\!\\!R^3$ and $\\vec{f}(\\vec{x})\n",
    "\\in I\\!\\!R^3$) we could draw a 3d-arrow at every (grid) point in space. It is common for these data sets to be time dependent.\n",
    "\n",
    "The probably most commonly used library in Science and Engineering to visualise such data sets is probably VTK, the Visualisation ToolKit (<https://vtk.org>). This is a substantial C++ library with interfaces to high level languages, including Python.\n",
    "\n",
    "One can either call these routines directly from Python code, or write the data to disk in a format that the VTK library can read (so called vtk data files), and then use stand-alone programme such as Mayavi, ParaView and VisIt to read these data files and manipulate them (ofter with a GUI). All three of these are using the VTK library internally, and can read vtk data files.\n",
    "\n",
    "These package is very well suited to visualise static and timedependent 2d and 3d-fields (scalar, vector and tensor fields). Two examples are shown below.\n",
    "\n",
    "They can be used as a stand-alone executables with a GUI to visualise VTK files. It can also be scripted from a Python program, or used interactively from a Python session.\n",
    "\n",
    "### Mayavi, Paraview, Visit\n",
    "\n",
    "-   Mayavi Home page <http://code.enthought.com/pages/mayavi-project.html>\n",
    "\n",
    "-   Paraview Home page <https://www.paraview.org>\n",
    "\n",
    "-   VisIt Home page <https://wci.llnl.gov/simulation/computer-codes/visit/>\n",
    "\n",
    "<img src=\"static/images/mayavi/vector_field_combination.png\" alt=\"image\" style=\"width:49.0%\" />\n",
    "\n",
    "<img src=\"static/images/mayavi/mayavi-samp.png\" alt=\"image\" style=\"width:49.0%\" />\n",
    "\n",
    "Two examples from MayaVi visualisations.\n",
    "\n",
    "### Writing vtk files from Python (pyvtk)\n",
    "\n",
    "A small but powerful Python library is pyvtk available at https://github.com/pearu/pyvtk. This allows to create vtk files from Python data structures very easily.\n",
    "\n",
    "Given a finite element mesh or a finite difference data set in Python, one can use pyvtk to write such data into files, and then use one of the visualisation applications listed above to load the vtk files and to display and investigate them."
   ]
  },
  {
   "cell_type": "markdown",
   "metadata": {},
   "source": [
    "## Further tools and developments"
   ]
  },
  {
   "cell_type": "markdown",
   "metadata": {},
   "source": [
    "In addition to `matplotlib`, there are a number of other libraries with similar or related visualisation functionality.\n",
    "\n",
    "[Plotly.py](https://plot.ly/python) and [Bokeh](https://bokeh.org) -- together with the veteran of python-based plotting `matplotlib` -- form the basis for many tools that provide visualisation skills.\n",
    "\n",
    "A beautiful summary and [categorisation](https://pyviz.org/tools.html) of these and other libraries is available at https://pyviz.org.\n",
    "\n",
    "### Exploiting self-describing data for visualisation \n",
    "\n",
    "Some libraries, such as [Pandas](http://pandas.pydata.org) (see also [Chapter on Pandas](17-pandas.ipynb)), [Xarray](http://xarray.pydata.org), and [holoviews](https://holoviews.org) make use of the idea of self-describing data to simplify the visualisation: while the data in a numpy array is 'just' a (multidimensional) matrix of data points, these libraries can store metadata -- such as headings and coordinates -- associated with these data points. We also talked about annotated or labelled data to describe the presence of such metadata.\n",
    "\n",
    "What is the benefit of having this meta-data available? An xarray, for example, may store a 2d-array (like a numpy array) but have the metadata store that one dimension refers to the x-position and the other direction to time. The x-array object provides convenience methods to select and plot the data in the xarray.\n",
    "\n",
    "### The future of data visualisation\n",
    "\n",
    "I would speculate that increasingly we will be using high-level plotting tools (such as pandas, xarray, holoviews) to explore data interactively.\n",
    "\n",
    "We can see a trend in data analysis libraries that data objects can be converted to such high-level annotated data objecs (such as European XFEL's [extra-data](https://extra-data.readthedocs.io) tools which can return a labelled xarray object). Other projects combine the metadata with the data in custom made objects to then provide convenience methods (such as [Ubermag](http://ubermag.github.io)'s [discretisedfield](discretisedfield/field-matplotlib-visualisation.html) object).\n",
    "\n",
    "Will we still need to learn the basics, such as the `matplotlib.pyplot` interface? Probably yes: the very least to fine tune the plots provided by these high level libraries: \n",
    "\n"
   ]
  },
  {
   "cell_type": "markdown",
   "metadata": {},
   "source": [
    "### Fine-tuning matplotlib plots that are generated by high level frame works\n",
    "\n",
    "We show one example where pandas -- as a representative for a high-level framework that can create plots -- creates the plot, but we use `pyplot` commands to tailor the resulting plot.\n",
    "\n",
    "Let's define the pandas data series first (it is not importat to understand the details of this now):"
   ]
  },
  {
   "cell_type": "code",
   "execution_count": null,
   "metadata": {},
   "outputs": [],
   "source": [
    "import pandas as pd\n",
    "s = pd.Series(data=[10, 20, 1], index=['bananas', 'oranges', 'potatoes'])\n",
    "s"
   ]
  },
  {
   "cell_type": "markdown",
   "metadata": {},
   "source": [
    "We can use a convenience method from pandas to create a plot of the data series:"
   ]
  },
  {
   "cell_type": "code",
   "execution_count": null,
   "metadata": {},
   "outputs": [],
   "source": [
    "s.plot.bar()"
   ]
  },
  {
   "cell_type": "markdown",
   "metadata": {},
   "source": [
    "Note how the bar chart is labelled appropriately: the metadata (here the labels 'bananas', 'oranges' and 'potatoes') have been used to label the x-axis in the plot."
   ]
  },
  {
   "cell_type": "markdown",
   "metadata": {},
   "source": [
    "If we want to change this plot, the following strategy works, and is supported by other high-level frameworks as well:\n",
    "\n",
    "- create an axes (and figure) object\n",
    "- pass the axes object to the high level plotting framework\n",
    "- use the axes object (and figure) to finetune the plot"
   ]
  },
  {
   "cell_type": "markdown",
   "metadata": {},
   "source": [
    "The following example shows how to add a title, customise the labelling of the y-axis, and add a grid to the plot, and change the size of the figure to be 10 inches by 3 inches:"
   ]
  },
  {
   "cell_type": "code",
   "execution_count": null,
   "metadata": {},
   "outputs": [],
   "source": [
    "import matplotlib.pyplot as plt\n",
    "fig, ax = plt.subplots(figsize=(10, 3))\n",
    "\n",
    "s.plot.bar(ax=ax, color='orange')\n",
    "ax.set_title(\"Current stock\")\n",
    "ax.set_yticks(range(0, 21, 4));\n",
    "ax.grid('on')"
   ]
  },
  {
   "cell_type": "markdown",
   "metadata": {},
   "source": [
    "## Jupyter Notebooks"
   ]
  },
  {
   "cell_type": "markdown",
   "metadata": {},
   "source": [
    "The [Jupyter Notebook](https://jupyter.org) has become a central tool for interactive data exploration and data analysis. I would go so far to say that most data scientists will see the Jupyter notebook as the default place to start a data exploration, analysis and machine learning project. \n",
    "\n",
    "Why is this so? The combination of annotation, code snippets, inlined results from computation or visualisation and the automatic logging of these steps in a notebook file can be of great use for research and development activities. A slightly longer summary is [available here](https://fangohr.github.io/blog/jupyter-for-computational-science-and-data-science.html).\n",
    "\n",
    "Some recent publications on the topic:\n",
    "\n",
    "- Brian Granger, Fernando Pérez. [*Jupyter: Thinking and Storytelling With Code and Data*](https://doi.org/10.1109/MCSE.2021.3059263), Computing in Science & Engineering, vol. 23, no. 2, pp. 7-14, 1 March-April 2021, doi: 10.1109/MCSE.2021.3059263 [Authorea preprint](https://www.authorea.com/users/394563/articles/508007-jupyter-thinking-and-storytelling-with-code-and-data)  (2021)\n",
    "\n",
    "- Hans Fangohr, Marijan Beg, et al, [*Data exploration and analysis with Jupyter notebooks*](http://accelconf.web.cern.ch/icalepcs2019/doi/JACoW-ICALEPCS2019-TUCPR02.html), Proceedings of the 17th International Conference on Accelerator and Large Experimental Physics Control Systems ICALEPCS2019, TUCPR02, doi: 10.18429/JACoW-ICALEPCS2019-TUCPR02 ([pdf](https://jacow.org/icalepcs2019/papers/tucpr02.pdf)) (2020)\n",
    "\n",
    "- Marijan Beg; Juliette Belin; Thomas Kluyver; Alexander Konovalov; Min Ragan-Kelley; Nicolas Thiery; Hans Fangohr. [*Using Jupyter for Reproducible Scientific Workflows*](https://ieeexplore.ieee.org/document/9325550) in Computing in Science & Engineering, vol. 23, no. 2, pp. 36-46, 1 March-April 2021, doi: 10.1109/MCSE.2021.3052101 [arXiv preprint](https://arxiv.org/abs/2102.09562) (2021)\n",
    "\n"
   ]
  }
 ],
 "metadata": {
  "kernelspec": {
   "display_name": "Python 3 (ipykernel)",
   "language": "python",
   "name": "python3"
  },
  "language_info": {
   "codemirror_mode": {
    "name": "ipython",
    "version": 3
   },
   "file_extension": ".py",
   "mimetype": "text/x-python",
   "name": "python",
   "nbconvert_exporter": "python",
   "pygments_lexer": "ipython3",
   "version": "3.9.13"
  }
 },
 "nbformat": 4,
 "nbformat_minor": 1
}
