{
 "cells": [
  {
   "cell_type": "markdown",
   "id": "american-settle",
   "metadata": {},
   "source": [
    "# Change history\n",
    "\n",
    "Since 2022"
   ]
  },
  {
   "cell_type": "markdown",
   "id": "naughty-affairs",
   "metadata": {},
   "source": [
    "- 3 Jan 2022: review [visualisation chapter](15-visualising-data.ipynb)\n",
    "- 4 Jan 2022: change from `odeint` to `solve_ivp` in [scipy chapter](16-scipy.ipynb)\n",
    "- 5 Jan 2022: adding new section [virtual environments and pip](18-environments.ipynb)"
   ]
  }
 ],
 "metadata": {
  "kernelspec": {
   "display_name": "Python 3 (ipykernel)",
   "language": "python",
   "name": "python3"
  },
  "language_info": {
   "codemirror_mode": {
    "name": "ipython",
    "version": 3
   },
   "file_extension": ".py",
   "mimetype": "text/x-python",
   "name": "python",
   "nbconvert_exporter": "python",
   "pygments_lexer": "ipython3",
   "version": "3.9.7"
  }
 },
 "nbformat": 4,
 "nbformat_minor": 5
}
